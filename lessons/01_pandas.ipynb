{
 "cells": [
  {
   "cell_type": "code",
   "execution_count": 2,
   "metadata": {},
   "outputs": [],
   "source": [
    "from pathlib import Path as path"
   ]
  },
  {
   "cell_type": "markdown",
   "metadata": {},
   "source": [
    "## Lab 03.01 - Introduction to Pandas and Data Operations\n",
    "In this lab, you'll learn how to use the pandas library to analyze real-world sales data. By the end of this lab, you'll be comfortable with the fundamental operations in pandas."
   ]
  },
  {
   "cell_type": "markdown",
   "metadata": {
    "vscode": {
     "languageId": "plaintext"
    }
   },
   "source": [
    "### Part 0 - Intro to Pandas\n",
    "Before we dive into using pandas, let's understand what it is and why it's important in data science.\n",
    "\n",
    "To answer the questions, edit the markdown cell and put your answer below the question. \n",
    "\n",
    "**Make sure to save the markdown cell, by pressing the ✓ (check) icon in the top right after answering the questions**\n",
    "\n",
    "Research and critically think about the following questions:"
   ]
  },
  {
   "attachments": {},
   "cell_type": "markdown",
   "metadata": {},
   "source": [
    "##### Question 00\n",
    "What is Pandas, and what are its primary functions in data visualization for data science?\n",
    "- **Answer:** Pandas is a python module that allows the analysis, sorting, and filtering of data sets\n",
    "\n",
    "##### Question 01\n",
    "What does \"data manipulation\" mean in the context of pandas and data science field?\n",
    "- **Answer:** In the context of data science, data manipulation is taking raw data and converting it for a specific purpose, like visualizing it or isolating specific desired data.\n",
    "\n",
    "##### Question 02\n",
    "What kind of files can pandas read? List at least 3:\n",
    "- **Answer:** pandas can read csv, excel, and json files."
   ]
  },
  {
   "cell_type": "markdown",
   "metadata": {},
   "source": [
    "#### 0.0 - Hands-On Exploration\n",
    "Let's start by importing pandas and exploring its basic functionality. Type these commands and write down what you observe:\n",
    "\n",
    "First, let's install the matplotlib library, in your terminal run the following command:\n",
    "\n",
    "```bash\n",
    "pip3 install pandas\n",
    "```\n",
    "\n",
    "Once installed, let's start by importing pandas and exploring its basic functionality. "
   ]
  },
  {
   "cell_type": "code",
   "execution_count": 3,
   "metadata": {},
   "outputs": [],
   "source": [
    "import pandas as pd"
   ]
  },
  {
   "cell_type": "markdown",
   "metadata": {},
   "source": [
    "Now lets run create a list, and see what happens when we use it with pandas."
   ]
  },
  {
   "cell_type": "code",
   "execution_count": 4,
   "metadata": {},
   "outputs": [
    {
     "name": "stdout",
     "output_type": "stream",
     "text": [
      "0    1\n",
      "1    2\n",
      "2    3\n",
      "3    4\n",
      "4    5\n",
      "dtype: int64\n"
     ]
    }
   ],
   "source": [
    "# Create a simple list of numbers\n",
    "numbers = [1, 2, 3, 4, 5]\n",
    "\n",
    "# Convert it to a pandas Series\n",
    "series = pd.Series(numbers)\n",
    "\n",
    "# Print the result\n",
    "print(series)"
   ]
  },
  {
   "attachments": {},
   "cell_type": "markdown",
   "metadata": {},
   "source": [
    "##### Question 03\n",
    "What did you notice about the output format?\n",
    "- **Answer:** The list items are printed on \n",
    "new lines.\n",
    "##### Question 04\n",
    "How is this different from a regular Python list? What are the numbers on the left side?\n",
    "- **Answer:** The numbers on the left represent the index of the list"
   ]
  },
  {
   "cell_type": "markdown",
   "metadata": {},
   "source": [
    "### Part 1 - Reading and Exploring Data\n",
    "\n",
    "#### 01.00 - Loading Data\n",
    "Let's start by loading our sales data that you downloaded alongside this lab. In pandas, we can read various file formats, but CSV (Comma-Separated Values) is one of the most common."
   ]
  },
  {
   "cell_type": "code",
   "execution_count": 5,
   "metadata": {},
   "outputs": [],
   "source": [
    "sales_df = pd.read_csv('sales_data.csv')"
   ]
  },
  {
   "cell_type": "markdown",
   "metadata": {},
   "source": [
    "When using pandas to load data, in ingests it into what is known as a \"dataframe\", this allows us to do advanced manipulation."
   ]
  },
  {
   "cell_type": "markdown",
   "metadata": {},
   "source": [
    "#### 01.01 - Viewing Data Samples\n",
    "Let's explore the fundamental methods for understanding our data structure and content. We'll look at each method individually and understand what it tells us about our data."
   ]
  },
  {
   "cell_type": "code",
   "execution_count": 6,
   "metadata": {},
   "outputs": [
    {
     "name": "stdout",
     "output_type": "stream",
     "text": [
      "         Date    Product         Category    Price  Units    Total  Discount  \\\n",
      "0  2023-01-01   Notebook  Office Supplies    18.33      2    35.56      0.03   \n",
      "1  2023-01-01     Laptop      Electronics  1943.35      4  7773.40      0.00   \n",
      "2  2023-01-01     Tablet      Electronics   436.05      2   872.10      0.00   \n",
      "3  2023-01-01  USB Drive      Accessories   116.48      3   349.44      0.00   \n",
      "4  2023-01-01    Pen Set  Office Supplies    42.14      4   168.56      0.00   \n",
      "\n",
      "  Region      Sales_Rep Payment_Method Customer_Segment  \n",
      "0  South   Sarah Wilson     Debit Card   Small Business  \n",
      "1  North     John Smith     Debit Card   Small Business  \n",
      "2   East    David Brown  Bank Transfer       Government  \n",
      "3   East  Lisa Anderson         PayPal       Individual  \n",
      "4   East    David Brown     Debit Card        Corporate  \n"
     ]
    }
   ],
   "source": [
    "print(sales_df.head())"
   ]
  },
  {
   "cell_type": "code",
   "execution_count": 7,
   "metadata": {},
   "outputs": [
    {
     "name": "stdout",
     "output_type": "stream",
     "text": [
      "            Date       Product         Category    Price  Units    Total  \\\n",
      "3766  2023-12-31    Smartwatch      Electronics  1730.72      2  3461.44   \n",
      "3767  2023-12-31          Desk        Furniture   462.57      1   462.57   \n",
      "3768  2023-12-31        Laptop      Electronics   560.79      2  1121.58   \n",
      "3769  2023-12-31  Office Chair        Furniture   116.04      2   232.08   \n",
      "3770  2023-12-31      Notebook  Office Supplies    18.15      4    72.60   \n",
      "\n",
      "      Discount Region        Sales_Rep Payment_Method Customer_Segment  \n",
      "3766       0.0  South  Michael Johnson     Debit Card       Individual  \n",
      "3767       0.0  North       John Smith     Debit Card       Government  \n",
      "3768       0.0   East      David Brown     Debit Card   Small Business  \n",
      "3769       0.0  North       Emma Davis    Credit Card        Corporate  \n",
      "3770       0.0  North       Emma Davis         PayPal       Individual  \n"
     ]
    }
   ],
   "source": [
    "print(sales_df.tail())"
   ]
  },
  {
   "attachments": {},
   "cell_type": "markdown",
   "metadata": {},
   "source": [
    "##### Question 04\n",
    "What is the difference between the `tail()` and `head()` commands? What would be use of either command be?\n",
    "- **Answer:** The tail function displayed the last items in the csv file while the head function displayed the first items\n",
    "\n",
    "##### Question 05\n",
    "What happens when you put a number in the `head()` function? What changed?\n",
    "- **Answer:** Putting a number prints that index in the csv file "
   ]
  },
  {
   "cell_type": "markdown",
   "metadata": {},
   "source": [
    "#### 01.02 - Understanding DataFrame Structure\n",
    "Let's examine the basic properties of our DataFrame:"
   ]
  },
  {
   "cell_type": "code",
   "execution_count": 8,
   "metadata": {},
   "outputs": [
    {
     "name": "stdout",
     "output_type": "stream",
     "text": [
      "Index(['Date', 'Product', 'Category', 'Price', 'Units', 'Total', 'Discount',\n",
      "       'Region', 'Sales_Rep', 'Payment_Method', 'Customer_Segment'],\n",
      "      dtype='object')\n"
     ]
    }
   ],
   "source": [
    "print(sales_df.columns)"
   ]
  },
  {
   "cell_type": "code",
   "execution_count": 9,
   "metadata": {},
   "outputs": [
    {
     "name": "stdout",
     "output_type": "stream",
     "text": [
      "Date                 object\n",
      "Product              object\n",
      "Category             object\n",
      "Price               float64\n",
      "Units                 int64\n",
      "Total               float64\n",
      "Discount            float64\n",
      "Region               object\n",
      "Sales_Rep            object\n",
      "Payment_Method       object\n",
      "Customer_Segment     object\n",
      "dtype: object\n"
     ]
    }
   ],
   "source": [
    "print(sales_df.dtypes)"
   ]
  },
  {
   "attachments": {},
   "cell_type": "markdown",
   "metadata": {},
   "source": [
    "##### Question 06\n",
    "Compare and contrast the outputs of the `columns` and `dtypes` properties. What is similar what is different?\n",
    "- **Answer:** Both display the catagories of the data set, but the dtypes property displays the data type of the columns as well\n",
    "\n",
    "##### Question 07\n",
    "What data type is the 'Date' column? Is this what you expected? \n",
    "- **Answer:** The date is an object type, I expected it to be a number\n",
    "\n",
    "##### Question 08\n",
    "Why might pandas choose different data types for different columns?\n",
    "- **Answer:** Depending what is being stored in the columns, pandas chooses a data type that corresponds to it."
   ]
  },
  {
   "cell_type": "markdown",
   "metadata": {},
   "source": [
    "#### 01.03 - Data Information Summary\n",
    "The `info()` method provides a concise summary of our DataFrame:"
   ]
  },
  {
   "cell_type": "code",
   "execution_count": 10,
   "metadata": {},
   "outputs": [
    {
     "name": "stdout",
     "output_type": "stream",
     "text": [
      "<class 'pandas.core.frame.DataFrame'>\n",
      "RangeIndex: 3771 entries, 0 to 3770\n",
      "Data columns (total 11 columns):\n",
      " #   Column            Non-Null Count  Dtype  \n",
      "---  ------            --------------  -----  \n",
      " 0   Date              3771 non-null   object \n",
      " 1   Product           3771 non-null   object \n",
      " 2   Category          3771 non-null   object \n",
      " 3   Price             3771 non-null   float64\n",
      " 4   Units             3771 non-null   int64  \n",
      " 5   Total             3771 non-null   float64\n",
      " 6   Discount          3771 non-null   float64\n",
      " 7   Region            3771 non-null   object \n",
      " 8   Sales_Rep         3693 non-null   object \n",
      " 9   Payment_Method    3739 non-null   object \n",
      " 10  Customer_Segment  3771 non-null   object \n",
      "dtypes: float64(3), int64(1), object(7)\n",
      "memory usage: 324.2+ KB\n",
      "None\n"
     ]
    }
   ],
   "source": [
    "print(sales_df.info())"
   ]
  },
  {
   "attachments": {},
   "cell_type": "markdown",
   "metadata": {},
   "source": [
    "##### Question 09\n",
    "What information does `info()` tell us, how could this information be useful?\n",
    "- **Answer:** The info functions tells us the range of the data set, the data types used in it, how many columns there are, and how many of each column is present in the set. This information can be useful when looking to isolate data, (eg. looking for only the float values in a data set )\n",
    "\n",
    "##### Question 10\n",
    "How much memory is our DataFrame using? \n",
    "- **Answer:** Over 324+ KB \n",
    "\n",
    "##### Question 11\n",
    "What does \"null\" mean? What impact could having \"null\" values in a dataset?\n",
    "- **Answer:** null means that there is no data in that columns"
   ]
  },
  {
   "cell_type": "markdown",
   "metadata": {},
   "source": [
    "#### 01.04 - Numerical Summaries\n",
    "The `describe()` method provides statistical summaries for numerical columns:"
   ]
  },
  {
   "cell_type": "code",
   "execution_count": 11,
   "metadata": {},
   "outputs": [
    {
     "name": "stdout",
     "output_type": "stream",
     "text": [
      "             Price        Units         Total     Discount\n",
      "count  3771.000000  3771.000000   3771.000000  3771.000000\n",
      "mean    397.093911     2.985150   1159.701854     0.021594\n",
      "std     514.524434     1.410003   1750.424109     0.041496\n",
      "min       4.810000     1.000000      4.990000     0.000000\n",
      "25%      40.165000     2.000000    110.730000     0.000000\n",
      "50%     134.860000     3.000000    372.870000     0.000000\n",
      "75%     516.490000     4.000000   1472.525000     0.020000\n",
      "max    2073.680000     5.000000  10151.100000     0.150000\n"
     ]
    }
   ],
   "source": [
    "print(sales_df.describe())"
   ]
  },
  {
   "attachments": {},
   "cell_type": "markdown",
   "metadata": {},
   "source": [
    "##### Question 12\n",
    "What statistics does the `describe()` function give us?\n",
    "- **Answer:** The describe function gives us the count, mean, standard deviation, minimum and maximum value, and the 25th, 50th, and 75th percentiles of the data.\n",
    "\n",
    "##### Question 13\n",
    "Which columns did the `describe()` function perform statistics on? Why? (Hint: why didnt we see 'Product' in the output?)\n",
    "- **Answer:** The describe function only analyses numerical values (You can't find the mean of a string)"
   ]
  },
  {
   "cell_type": "code",
   "execution_count": 12,
   "metadata": {},
   "outputs": [
    {
     "name": "stdout",
     "output_type": "stream",
     "text": [
      "             Price        Units\n",
      "count  3771.000000  3771.000000\n",
      "mean    397.093911     2.985150\n",
      "std     514.524434     1.410003\n",
      "min       4.810000     1.000000\n",
      "25%      40.165000     2.000000\n",
      "50%     134.860000     3.000000\n",
      "75%     516.490000     4.000000\n",
      "max    2073.680000     5.000000\n"
     ]
    }
   ],
   "source": [
    "print(sales_df[['Price', 'Units']].describe())"
   ]
  },
  {
   "attachments": {},
   "cell_type": "markdown",
   "metadata": {},
   "source": [
    "##### Question 14\n",
    "What is different in the codeblock above compared to the previous one. How did this affect the output?\n",
    "- **Answer:** It only provided the describe details for the columns that were specified."
   ]
  },
  {
   "cell_type": "code",
   "execution_count": 13,
   "metadata": {},
   "outputs": [
    {
     "name": "stdout",
     "output_type": "stream",
     "text": [
      "['Office Supplies' 'Electronics' 'Accessories' 'Furniture']\n"
     ]
    }
   ],
   "source": [
    "print(sales_df['Category'].unique())"
   ]
  },
  {
   "attachments": {},
   "cell_type": "markdown",
   "metadata": {},
   "source": [
    "##### Question 15\n",
    "How many unique product categories are in our data set?\n",
    "- **Answer:** There are 4 unique product catagories"
   ]
  },
  {
   "cell_type": "code",
   "execution_count": 14,
   "metadata": {},
   "outputs": [
    {
     "name": "stdout",
     "output_type": "stream",
     "text": [
      "Output 1:\n",
      "Category\n",
      "Office Supplies    953\n",
      "Accessories        942\n",
      "Furniture          941\n",
      "Electronics        935\n",
      "Name: count, dtype: int64\n",
      "\n",
      "\n",
      "Output 2:\n",
      "Category\n",
      "Office Supplies    0.252718\n",
      "Accessories        0.249801\n",
      "Furniture          0.249536\n",
      "Electronics        0.247945\n",
      "Name: proportion, dtype: float64\n"
     ]
    }
   ],
   "source": [
    "print(\"Output 1:\")\n",
    "print(sales_df['Category'].value_counts())\n",
    "\n",
    "print('')\n",
    "print('')\n",
    "\n",
    "print(\"Output 2:\")\n",
    "print(sales_df['Category'].value_counts(normalize=True))"
   ]
  },
  {
   "attachments": {},
   "cell_type": "markdown",
   "metadata": {},
   "source": [
    "##### Question 16\n",
    "What is the difference between the two outputs?\n",
    "- **Answer:** The first output shows the count of each catagory, while the second output displays the percentage each catagory makes up.\n",
    "\n",
    "##### Question 17\n",
    "What is our most common product category?\n",
    "- **Answer:** Office supplies are the most common catagory."
   ]
  },
  {
   "attachments": {},
   "cell_type": "markdown",
   "metadata": {},
   "source": [
    "##### Excercise 00\n",
    "Using what you've learned, create a code cell direclty below this one to answer these questions:\n",
    "\n",
    "- What is the date range of our sales data? (Hint: try `min()` and `max()` functions)\n",
    "- How many unique products do we sell?\n",
    "- What is our most common payment method?"
   ]
  },
  {
   "cell_type": "code",
   "execution_count": 15,
   "metadata": {},
   "outputs": [
    {
     "name": "stdout",
     "output_type": "stream",
     "text": [
      "The range of the sales data is from 2023-12-31 to 2023-01-01\n"
     ]
    }
   ],
   "source": [
    "print(f'The range of the sales data is from {(sales_df[\"Date\"].max())} to {(sales_df[\"Date\"].min())}')"
   ]
  },
  {
   "cell_type": "code",
   "execution_count": 16,
   "metadata": {},
   "outputs": [
    {
     "name": "stdout",
     "output_type": "stream",
     "text": [
      "['Notebook' 'Laptop' 'Tablet' 'USB Drive' 'Pen Set' 'Laptop Bag' 'Lamp'\n",
      " 'Smartwatch' 'Monitor Stand' 'Desk Organizer' 'Smartphone' 'Stapler'\n",
      " 'Desk' 'Mouse' 'Keyboard' 'Office Chair' 'Bookshelf' 'Paper Clips'\n",
      " 'Headphones' 'Filing Cabinet']\n"
     ]
    }
   ],
   "source": [
    "print(sales_df['Product'].unique())"
   ]
  },
  {
   "cell_type": "markdown",
   "metadata": {},
   "source": [
    "### Part 2 - Data Selection and Filtering\n",
    "\n",
    "#### 02.01 - Column Selection\n",
    "There are multiple ways to select columns in pandas. Let's explore them:"
   ]
  },
  {
   "cell_type": "code",
   "execution_count": 17,
   "metadata": {},
   "outputs": [],
   "source": [
    "# Select single column\n",
    "prices = sales_df['Price']\n",
    "\n",
    "# Select multiple columns\n",
    "product_info = sales_df[['Product', 'Price', 'Units']]"
   ]
  },
  {
   "attachments": {},
   "cell_type": "markdown",
   "metadata": {},
   "source": [
    "##### Question 17\n",
    "Compare and contrast how we select multiple columns vs a single column.\n",
    "- **Answer:** We select multuple columns by providing a list of column titles, rather than one column."
   ]
  },
  {
   "cell_type": "markdown",
   "metadata": {},
   "source": [
    "##### Excercise 01\n",
    "Using what you've learned, create a code cell direclty below this one to select the 'Region' and 'Category' columns and store them in a variable called 'location_data'."
   ]
  },
  {
   "cell_type": "code",
   "execution_count": 18,
   "metadata": {},
   "outputs": [
    {
     "data": {
      "text/html": [
       "<div>\n",
       "<style scoped>\n",
       "    .dataframe tbody tr th:only-of-type {\n",
       "        vertical-align: middle;\n",
       "    }\n",
       "\n",
       "    .dataframe tbody tr th {\n",
       "        vertical-align: top;\n",
       "    }\n",
       "\n",
       "    .dataframe thead th {\n",
       "        text-align: right;\n",
       "    }\n",
       "</style>\n",
       "<table border=\"1\" class=\"dataframe\">\n",
       "  <thead>\n",
       "    <tr style=\"text-align: right;\">\n",
       "      <th></th>\n",
       "      <th>Region</th>\n",
       "      <th>Category</th>\n",
       "    </tr>\n",
       "  </thead>\n",
       "  <tbody>\n",
       "    <tr>\n",
       "      <th>0</th>\n",
       "      <td>South</td>\n",
       "      <td>Office Supplies</td>\n",
       "    </tr>\n",
       "    <tr>\n",
       "      <th>1</th>\n",
       "      <td>North</td>\n",
       "      <td>Electronics</td>\n",
       "    </tr>\n",
       "    <tr>\n",
       "      <th>2</th>\n",
       "      <td>East</td>\n",
       "      <td>Electronics</td>\n",
       "    </tr>\n",
       "    <tr>\n",
       "      <th>3</th>\n",
       "      <td>East</td>\n",
       "      <td>Accessories</td>\n",
       "    </tr>\n",
       "    <tr>\n",
       "      <th>4</th>\n",
       "      <td>East</td>\n",
       "      <td>Office Supplies</td>\n",
       "    </tr>\n",
       "    <tr>\n",
       "      <th>...</th>\n",
       "      <td>...</td>\n",
       "      <td>...</td>\n",
       "    </tr>\n",
       "    <tr>\n",
       "      <th>3766</th>\n",
       "      <td>South</td>\n",
       "      <td>Electronics</td>\n",
       "    </tr>\n",
       "    <tr>\n",
       "      <th>3767</th>\n",
       "      <td>North</td>\n",
       "      <td>Furniture</td>\n",
       "    </tr>\n",
       "    <tr>\n",
       "      <th>3768</th>\n",
       "      <td>East</td>\n",
       "      <td>Electronics</td>\n",
       "    </tr>\n",
       "    <tr>\n",
       "      <th>3769</th>\n",
       "      <td>North</td>\n",
       "      <td>Furniture</td>\n",
       "    </tr>\n",
       "    <tr>\n",
       "      <th>3770</th>\n",
       "      <td>North</td>\n",
       "      <td>Office Supplies</td>\n",
       "    </tr>\n",
       "  </tbody>\n",
       "</table>\n",
       "<p>3771 rows × 2 columns</p>\n",
       "</div>"
      ],
      "text/plain": [
       "     Region         Category\n",
       "0     South  Office Supplies\n",
       "1     North      Electronics\n",
       "2      East      Electronics\n",
       "3      East      Accessories\n",
       "4      East  Office Supplies\n",
       "...     ...              ...\n",
       "3766  South      Electronics\n",
       "3767  North        Furniture\n",
       "3768   East      Electronics\n",
       "3769  North        Furniture\n",
       "3770  North  Office Supplies\n",
       "\n",
       "[3771 rows x 2 columns]"
      ]
     },
     "execution_count": 18,
     "metadata": {},
     "output_type": "execute_result"
    }
   ],
   "source": [
    "sales_df[['Region', 'Category']]"
   ]
  },
  {
   "cell_type": "markdown",
   "metadata": {},
   "source": [
    "#### 02.01 - Filtering Data\n",
    "Let's learn how to filter our data based on conditions:"
   ]
  },
  {
   "cell_type": "code",
   "execution_count": 19,
   "metadata": {},
   "outputs": [
    {
     "name": "stdout",
     "output_type": "stream",
     "text": [
      "Expensive items:\n",
      "            Date     Product     Category    Price  Units    Total  Discount  \\\n",
      "1     2023-01-01      Laptop  Electronics  1943.35      4  7773.40      0.00   \n",
      "9     2023-01-01  Smartwatch  Electronics   893.71      3  2681.13      0.00   \n",
      "10    2023-01-01      Laptop  Electronics   802.12      3  2093.53      0.13   \n",
      "13    2023-01-02  Smartphone  Electronics   687.98      3  2063.94      0.00   \n",
      "16    2023-01-02  Smartwatch  Electronics   507.91      4  2031.64      0.00   \n",
      "...          ...         ...          ...      ...    ...      ...       ...   \n",
      "3760  2023-12-31  Smartphone  Electronics  1766.20      4  7064.80      0.00   \n",
      "3763  2023-12-31      Tablet  Electronics  1424.20      5  7121.00      0.00   \n",
      "3764  2023-12-31  Smartphone  Electronics   857.34      5  4286.70      0.00   \n",
      "3766  2023-12-31  Smartwatch  Electronics  1730.72      2  3461.44      0.00   \n",
      "3768  2023-12-31      Laptop  Electronics   560.79      2  1121.58      0.00   \n",
      "\n",
      "     Region          Sales_Rep Payment_Method Customer_Segment  \n",
      "1     North         John Smith     Debit Card   Small Business  \n",
      "9      West  Jennifer Martinez         PayPal       Government  \n",
      "10     West  Jennifer Martinez     Debit Card       Individual  \n",
      "13     West      Robert Taylor  Bank Transfer   Small Business  \n",
      "16     East        David Brown  Bank Transfer        Corporate  \n",
      "...     ...                ...            ...              ...  \n",
      "3760   West  Jennifer Martinez         PayPal   Small Business  \n",
      "3763  North         John Smith         PayPal        Corporate  \n",
      "3764   West      Robert Taylor  Bank Transfer        Corporate  \n",
      "3766  South    Michael Johnson     Debit Card       Individual  \n",
      "3768   East        David Brown     Debit Card   Small Business  \n",
      "\n",
      "[989 rows x 11 columns]\n",
      "\n",
      "North region sales:\n",
      "            Date       Product         Category    Price  Units    Total  \\\n",
      "1     2023-01-01        Laptop      Electronics  1943.35      4  7773.40   \n",
      "8     2023-01-01          Lamp        Furniture   353.09      5  1518.29   \n",
      "17    2023-01-02          Lamp        Furniture   390.69      3  1160.35   \n",
      "24    2023-01-03     Bookshelf        Furniture   504.67      1   504.67   \n",
      "27    2023-01-03       Pen Set  Office Supplies    30.36      3    91.08   \n",
      "...          ...           ...              ...      ...    ...      ...   \n",
      "3759  2023-12-31     USB Drive      Accessories    86.88      1    77.32   \n",
      "3763  2023-12-31        Tablet      Electronics  1424.20      5  7121.00   \n",
      "3767  2023-12-31          Desk        Furniture   462.57      1   462.57   \n",
      "3769  2023-12-31  Office Chair        Furniture   116.04      2   232.08   \n",
      "3770  2023-12-31      Notebook  Office Supplies    18.15      4    72.60   \n",
      "\n",
      "      Discount Region   Sales_Rep Payment_Method Customer_Segment  \n",
      "1         0.00  North  John Smith     Debit Card   Small Business  \n",
      "8         0.14  North  Emma Davis     Debit Card       Individual  \n",
      "17        0.01  North  Emma Davis    Credit Card       Individual  \n",
      "24        0.00  North  John Smith         PayPal   Small Business  \n",
      "27        0.00  North  John Smith     Debit Card   Small Business  \n",
      "...        ...    ...         ...            ...              ...  \n",
      "3759      0.11  North  Emma Davis         PayPal       Individual  \n",
      "3763      0.00  North  John Smith         PayPal        Corporate  \n",
      "3767      0.00  North  John Smith     Debit Card       Government  \n",
      "3769      0.00  North  Emma Davis    Credit Card        Corporate  \n",
      "3770      0.00  North  Emma Davis         PayPal       Individual  \n",
      "\n",
      "[985 rows x 11 columns]\n"
     ]
    }
   ],
   "source": [
    "expensive_items = sales_df[sales_df['Price'] > 500]\n",
    "\n",
    "north_sales = sales_df[sales_df['Region'] == 'North']\n",
    "\n",
    "print(\"Expensive items:\")\n",
    "print(expensive_items)\n",
    "print(\"\\nNorth region sales:\")\n",
    "print(north_sales)"
   ]
  },
  {
   "attachments": {},
   "cell_type": "markdown",
   "metadata": {},
   "source": [
    "##### Question 18\n",
    "What is `sales_df['Price'] > 500` accomplishing in our code? How might we use this in data science workflows?\n",
    "- **Answer:** This will only display the items whose price exceeds 500. This can be used, for example, to isolate only very large and significant numbers in some kind of scientific study.\n",
    "\n",
    "##### Question 19\n",
    "What logic operator would we use to combine multiple conditonals when filtering columns?\n",
    "- **Answer:** We would use the and operator to combine conditionals."
   ]
  },
  {
   "cell_type": "markdown",
   "metadata": {},
   "source": [
    "##### Excercise 02\n",
    "Using what you've learned, create a code cell direclty below this one to create the following filters:\n",
    "- The number of units sold was greater than 5\n",
    "- The product category is 'Electronics'"
   ]
  },
  {
   "cell_type": "code",
   "execution_count": 20,
   "metadata": {},
   "outputs": [
    {
     "data": {
      "text/html": [
       "<div>\n",
       "<style scoped>\n",
       "    .dataframe tbody tr th:only-of-type {\n",
       "        vertical-align: middle;\n",
       "    }\n",
       "\n",
       "    .dataframe tbody tr th {\n",
       "        vertical-align: top;\n",
       "    }\n",
       "\n",
       "    .dataframe thead th {\n",
       "        text-align: right;\n",
       "    }\n",
       "</style>\n",
       "<table border=\"1\" class=\"dataframe\">\n",
       "  <thead>\n",
       "    <tr style=\"text-align: right;\">\n",
       "      <th></th>\n",
       "      <th>Date</th>\n",
       "      <th>Product</th>\n",
       "      <th>Category</th>\n",
       "      <th>Price</th>\n",
       "      <th>Units</th>\n",
       "      <th>Total</th>\n",
       "      <th>Discount</th>\n",
       "      <th>Region</th>\n",
       "      <th>Sales_Rep</th>\n",
       "      <th>Payment_Method</th>\n",
       "      <th>Customer_Segment</th>\n",
       "    </tr>\n",
       "  </thead>\n",
       "  <tbody>\n",
       "  </tbody>\n",
       "</table>\n",
       "</div>"
      ],
      "text/plain": [
       "Empty DataFrame\n",
       "Columns: [Date, Product, Category, Price, Units, Total, Discount, Region, Sales_Rep, Payment_Method, Customer_Segment]\n",
       "Index: []"
      ]
     },
     "execution_count": 20,
     "metadata": {},
     "output_type": "execute_result"
    }
   ],
   "source": [
    "sales_df[\n",
    "    (sales_df['Category']==\"Electronics\") & (sales_df[\"Units\"]>5)\n",
    "    ]"
   ]
  },
  {
   "cell_type": "code",
   "execution_count": 21,
   "metadata": {},
   "outputs": [
    {
     "data": {
      "text/plain": [
       "'Office Supplies'"
      ]
     },
     "execution_count": 21,
     "metadata": {},
     "output_type": "execute_result"
    }
   ],
   "source": [
    "sales_df=pd.read_csv('sales_data.csv')\n",
    "north_sales['Category'].max()"
   ]
  },
  {
   "attachments": {},
   "cell_type": "markdown",
   "metadata": {},
   "source": [
    "#### Part 3 - Final Summary\n",
    "Use your experience completing this lab, and the code block below to answer the following summary questions\n",
    "\n",
    "##### Question 20\n",
    "In your own words, explain what pandas is and why it's useful for data analysis:\n",
    "- **Answer:** pandas is a useful tool for manipulating and sorting data. It allows us to get information from our data set that would be tedious to do manually -such as the mean of a specific column or filtering with specific parameters- automaticaly.\n",
    "\n",
    "##### Question 21\n",
    "How many unique products are in the dataset?\n",
    "- **Answer:** There 20 unique products in the dataset\n",
    "\n",
    "##### Question 22\n",
    "What was the most popular product category in the `North` region? \n",
    "- **Answer:** Office Supplies"
   ]
  },
  {
   "cell_type": "markdown",
   "metadata": {},
   "source": [
    "# Groupby examples:"
   ]
  },
  {
   "cell_type": "markdown",
   "metadata": {},
   "source": [
    "#### 1: Which sales rep gives the greatest discount on average?"
   ]
  },
  {
   "cell_type": "code",
   "execution_count": 22,
   "metadata": {},
   "outputs": [
    {
     "name": "stdout",
     "output_type": "stream",
     "text": [
      "Sales_Rep\n",
      "Lisa Anderson        0.023719\n",
      "Emma Davis           0.023040\n",
      "John Smith           0.021760\n",
      "Robert Taylor        0.021652\n",
      "David Brown          0.021298\n",
      "Michael Johnson      0.021191\n",
      "Jennifer Martinez    0.020491\n",
      "Sarah Wilson         0.019959\n",
      "Name: Discount, dtype: float64\n"
     ]
    }
   ],
   "source": [
    "most_discount=sales_df.groupby(['Sales_Rep'])['Discount'].mean().sort_values(ascending=False)\n",
    "print(most_discount)"
   ]
  },
  {
   "cell_type": "markdown",
   "metadata": {},
   "source": [
    "#### 2: What is the greatest total sale per customer segment"
   ]
  },
  {
   "cell_type": "code",
   "execution_count": 23,
   "metadata": {},
   "outputs": [
    {
     "name": "stdout",
     "output_type": "stream",
     "text": [
      "Customer_Segment\n",
      "Individual        10151.10\n",
      "Corporate          9691.75\n",
      "Government         9688.45\n",
      "Small Business     9630.20\n",
      "Name: Total, dtype: float64\n"
     ]
    }
   ],
   "source": [
    "great_sale=sales_df.groupby(['Customer_Segment'])['Total'].max().sort_values(ascending=False)\n",
    "print(great_sale)"
   ]
  },
  {
   "cell_type": "markdown",
   "metadata": {},
   "source": [
    "## Bar Graph for #1:"
   ]
  },
  {
   "cell_type": "code",
   "execution_count": 24,
   "metadata": {},
   "outputs": [
    {
     "data": {
      "text/plain": [
       "<Axes: title={'center': 'Average Discount Given Per Sales Rep'}, xlabel='Sales Representative', ylabel='Average discount (Decimal)'>"
      ]
     },
     "execution_count": 24,
     "metadata": {},
     "output_type": "execute_result"
    },
    {
     "data": {
      "image/png": "[encoded data removed]",
      "text/plain": [
       "<Figure size 750x500 with 1 Axes>"
      ]
     },
     "metadata": {},
     "output_type": "display_data"
    }
   ],
   "source": [
    "most_discount.plot(\n",
    "    title=\"Average Discount Given Per Sales Rep\", \n",
    "    kind='bar', \n",
    "    xlabel=\"Sales Representative\", \n",
    "    ylabel=\"Average discount (Decimal)\",\n",
    "    figsize=(7.5,5),\n",
    "    ylim=(0.015,0.025)\n",
    "    )"
   ]
  },
  {
   "cell_type": "markdown",
   "metadata": {},
   "source": []
  },
  {
   "cell_type": "code",
   "execution_count": 25,
   "metadata": {},
   "outputs": [
    {
     "data": {
      "text/plain": [
       "<Axes: title={'center': 'Greatest Sale Per Customer Segment'}, xlabel='Customer Segment', ylabel='Greatest Sale Total ($)'>"
      ]
     },
     "execution_count": 25,
     "metadata": {},
     "output_type": "execute_result"
    },
    {
     "data": {
      "image/png": "[encoded data removed]",
      "text/plain": [
       "<Figure size 500x500 with 1 Axes>"
      ]
     },
     "metadata": {},
     "output_type": "display_data"
    }
   ],
   "source": [
    "great_sale.plot(\n",
    "    title=\"Greatest Sale Per Customer Segment\",\n",
    "    kind=\"bar\",\n",
    "    xlabel=\"Customer Segment\",\n",
    "    ylabel=\"Greatest Sale Total ($)\",\n",
    "    ylim=(9500,10200),\n",
    "    figsize=(5,5)\n",
    "    \n",
    ")"
   ]
  }
 ],
 "metadata": {
  "kernelspec": {
   "display_name": "Python 3",
   "language": "python",
   "name": "python3"
  },
  "language_info": {
   "codemirror_mode": {
    "name": "ipython",
    "version": 3
   },
   "file_extension": ".py",
   "mimetype": "text/x-python",
   "name": "python",
   "nbconvert_exporter": "python",
   "pygments_lexer": "ipython3",
   "version": "3.13.0"
  },
  "vscode": {
   "interpreter": {
    "hash": "b0fa6594d8f4cbf19f97940f81e996739fb7646882a419484c72d19e05852a7e"
   }
  }
 },
 "nbformat": 4,
 "nbformat_minor": 2
}
